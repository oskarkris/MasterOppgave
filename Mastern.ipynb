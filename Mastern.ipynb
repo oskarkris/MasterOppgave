{
 "cells": [
  {
   "cell_type": "code",
   "execution_count": 15,
   "metadata": {},
   "outputs": [],
   "source": [
    "#!pip install keras\n",
    "#!pip install visualkeras\n"
   ]
  },
  {
   "cell_type": "code",
   "execution_count": 16,
   "metadata": {},
   "outputs": [],
   "source": [
    "#source code\n",
    "#https://github.com/KhuyenLE-maths/LeNet_model_with_MNIST_recognition/blob/main/LeNet_with_MNIST_recognition.ipynb"
   ]
  },
  {
   "cell_type": "code",
   "execution_count": 2,
   "metadata": {},
   "outputs": [],
   "source": [
    "from tensorflow import keras\n",
    "import keras.layers as layers\n",
    "from keras.utils import to_categorical\n",
    "from keras.models import Sequential,Model, load_model\n",
    "from keras.layers import Dense, Dropout, Flatten, Input,LeakyReLU,Conv2D, MaxPooling2D\n",
    "from keras.datasets import mnist\n",
    "from keras.optimizers import SGD\n",
    "from keras.metrics import categorical_crossentropy, binary_crossentropy\n",
    "import tensorflow as tf\n",
    "import visualkeras\n",
    "import matplotlib.pyplot as plt\n",
    "import random\n",
    "import numpy as np\n",
    "import pandas as pd\n",
    "import seaborn as sns\n",
    "from sklearn.metrics import confusion_matrix\n",
    "from sklearn.model_selection import train_test_split\n",
    "from itertools import chain"
   ]
  },
  {
   "cell_type": "code",
   "execution_count": 7,
   "metadata": {},
   "outputs": [],
   "source": [
    "#Load model / training data\n",
    "LeNet_model = load_model('LeNet_model.keras')\n",
    "training_data_m2 = pd.read_csv('training_data_m2.csv')\n",
    "\n"
   ]
  },
  {
   "cell_type": "code",
   "execution_count": 4,
   "metadata": {},
   "outputs": [
    {
     "name": "stdout",
     "output_type": "stream",
     "text": [
      "X_train shape (56000, 28, 28) X_test shape (14000, 28, 28)\n"
     ]
    }
   ],
   "source": [
    "#load images from MNIST, split into images and labels\n",
    "(train_img, train_label), (test_img, test_label) = mnist.load_data()\n",
    "\n",
    "#Create binary labels, either 9 or !9\n",
    "train_labels_binary = (train_label == 9).astype(int)\n",
    "test_labels_binary = (test_label == 9).astype(int)\n",
    "\n",
    "#Concat to be able to control training size\n",
    "x = np.concatenate((train_img, test_img))\n",
    "y = np.concatenate((train_labels_binary, test_labels_binary))\n",
    "\n",
    "#set training size percentage\n",
    "train_size = 0.8\n",
    "\n",
    "#split into train and test data / label\n",
    "X_train, X_test, Y_train, Y_test = train_test_split(x, y, train_size=train_size)\n",
    "print('X_train shape', X_train.shape, 'X_test shape', X_test.shape)"
   ]
  },
  {
   "cell_type": "code",
   "execution_count": 5,
   "metadata": {},
   "outputs": [],
   "source": [
    "def LeNet():\n",
    "  model = Sequential()\n",
    "  \n",
    "  # Convolutional layer  \n",
    "  model.add(Conv2D(filters = 6, kernel_size = (5,5), padding = 'same', \n",
    "                   activation = 'relu', input_shape = (28,28,1)))\n",
    "  \n",
    "  # Max-pooing layer with pooling window size is 2x2\n",
    "  model.add(MaxPooling2D(pool_size = (2,2)))\n",
    "  \n",
    "  # Convolutional layer \n",
    "  model.add(Conv2D(filters = 16, kernel_size = (5,5), activation = 'relu'))\n",
    "  \n",
    "  # Max-pooling layer \n",
    "  model.add(MaxPooling2D(pool_size = (2,2)))\n",
    "  \n",
    "  # Flatten layer \n",
    "  model.add(Flatten())\n",
    "  \n",
    "  # The first fully connected layer \n",
    "  model.add(Dense(40, activation = 'relu'))\n",
    "  \n",
    "  # The output layer  \n",
    "  model.add(Dense(2, activation = 'softmax'))\n",
    "  \n",
    "  # compile the model with a loss function, a metric and an optimizer function\n",
    "  # In this case, the loss function is categorical crossentropy, \n",
    "  # we use Stochastic Gradient Descent (SGD) method with learning rate lr = 0.01 to optimize the loss function\n",
    "  # metric: accuracy \n",
    "  \n",
    "  opt = SGD(learning_rate=0.02)\n",
    "  model.compile(loss = binary_crossentropy, \n",
    "                optimizer = opt, \n",
    "                metrics = ['accuracy']) \n",
    "  # Extract vectors from specific layers\n",
    "  output_specific_layer = Model(inputs=model.input, \n",
    "                                  outputs=model.layers[4].output)\n",
    "  output_img_data = Model(inputs=model.input, \n",
    "                                  outputs=model.layers[2].output)\n",
    "  \n",
    "  return model,output_specific_layer,output_img_data"
   ]
  },
  {
   "cell_type": "code",
   "execution_count": 6,
   "metadata": {},
   "outputs": [],
   "source": [
    "def preprocess_data(X_train, y_train, X_test, y_test):\n",
    "  # reshape images to the required size of Keras\n",
    "  X_train = X_train.reshape(X_train.shape[0], X_train.shape[1], X_train.shape[2], 1)\n",
    "  X_test = X_test.reshape(X_test.shape[0], X_test.shape[1], X_test.shape[2], 1)\n",
    "  \n",
    "  # convert image values from integers to floats\n",
    "  X_train = X_train.astype('float32')\n",
    "  X_test = X_test.astype('float32')\n",
    "  \n",
    "  # normalization\n",
    "  X_train = X_train/255.0\n",
    "  X_test_norm = X_test/255.0\n",
    "  \n",
    "  # One-hot encoding label \n",
    "  y_train = to_categorical(y_train)\n",
    "  y_test = to_categorical(y_test)\n",
    "  \n",
    "  return X_train, y_train, X_test, y_test"
   ]
  },
  {
   "cell_type": "code",
   "execution_count": 7,
   "metadata": {},
   "outputs": [
    {
     "name": "stdout",
     "output_type": "stream",
     "text": [
      "Model: \"sequential\"\n",
      "_________________________________________________________________\n",
      " Layer (type)                Output Shape              Param #   \n",
      "=================================================================\n",
      " conv2d (Conv2D)             (None, 28, 28, 6)         156       \n",
      "                                                                 \n",
      " max_pooling2d (MaxPooling2  (None, 14, 14, 6)         0         \n",
      " D)                                                              \n",
      "                                                                 \n",
      " conv2d_1 (Conv2D)           (None, 10, 10, 16)        2416      \n",
      "                                                                 \n",
      " max_pooling2d_1 (MaxPoolin  (None, 5, 5, 16)          0         \n",
      " g2D)                                                            \n",
      "                                                                 \n",
      " flatten (Flatten)           (None, 400)               0         \n",
      "                                                                 \n",
      " dense (Dense)               (None, 40)                16040     \n",
      "                                                                 \n",
      " dense_1 (Dense)             (None, 2)                 82        \n",
      "                                                                 \n",
      "=================================================================\n",
      "Total params: 18694 (73.02 KB)\n",
      "Trainable params: 18694 (73.02 KB)\n",
      "Non-trainable params: 0 (0.00 Byte)\n",
      "_________________________________________________________________\n"
     ]
    }
   ],
   "source": [
    "LeNet_model , output_specific_layer, output_img_data =  LeNet()\n",
    "LeNet_model.summary()"
   ]
  },
  {
   "cell_type": "code",
   "execution_count": 8,
   "metadata": {},
   "outputs": [],
   "source": [
    "def summary_history(history):\n",
    "  plt.figure(figsize = (10,6))\n",
    "  plt.plot(history.history['accuracy'], color = 'blue', label = 'train')\n",
    "  plt.plot(history.history['val_accuracy'], color = 'red', label = 'val')\n",
    "  plt.legend()\n",
    "  plt.title('Accuracy')\n",
    "  plt.show()\n",
    "\n",
    "def train_model(model, X_train, y_train, X_test, y_test, epochs = 2, batch_size = 128):\n",
    "  # Rescaling all training and testing data\n",
    "  X_train, y_train, X_test, y_test = preprocess_data(X_train, y_train, X_test, y_test)\n",
    "  # Fitting the model on the training set\n",
    "  history = model.fit(X_train, y_train, epochs = epochs, batch_size = batch_size, \n",
    "                      steps_per_epoch = X_train.shape[0]//batch_size, \n",
    "                      validation_data = (X_test, y_test), \n",
    "                      validation_steps = X_test.shape[0]//batch_size, verbose = 1)\n",
    "  # evaluating the model\n",
    "  _, acc = model.evaluate(X_test, y_test, verbose = 1)\n",
    "  print('%.3f' % (acc * 100.0))\n",
    "  summary_history(history)"
   ]
  },
  {
   "cell_type": "code",
   "execution_count": 9,
   "metadata": {},
   "outputs": [
    {
     "name": "stdout",
     "output_type": "stream",
     "text": [
      "Epoch 1/2\n",
      "437/437 [==============================] - 9s 20ms/step - loss: 0.2994 - accuracy: 0.8934 - val_loss: 11.6195 - val_accuracy: 0.9164\n",
      "Epoch 2/2\n",
      "437/437 [==============================] - 9s 20ms/step - loss: 0.1525 - accuracy: 0.9437 - val_loss: 15.7541 - val_accuracy: 0.9223\n",
      "438/438 [==============================] - 1s 3ms/step - loss: 15.7008 - accuracy: 0.9225\n",
      "92.250\n"
     ]
    },
    {
     "data": {
      "image/png": "[encoded data removed]",
      "text/plain": [
       "<Figure size 1000x600 with 1 Axes>"
      ]
     },
     "metadata": {},
     "output_type": "display_data"
    }
   ],
   "source": [
    "train_model(LeNet_model, X_train, Y_train, X_test, Y_test)"
   ]
  },
  {
   "cell_type": "code",
   "execution_count": null,
   "metadata": {},
   "outputs": [
    {
     "data": {
      "image/png": "[encoded data removed]",
      "text/plain": [
       "<PIL.Image.Image image mode=RGBA size=262x150>"
      ]
     },
     "execution_count": 12,
     "metadata": {},
     "output_type": "execute_result"
    }
   ],
   "source": [
    "visualkeras.layered_view(LeNet_model)"
   ]
  },
  {
   "cell_type": "code",
   "execution_count": null,
   "metadata": {},
   "outputs": [],
   "source": [
    "# predict labels for the test set\n",
    "y_test_pred = []\n",
    "vec_p_list = []\n",
    "out_list = []\n",
    "img_data = []\n",
    "for i in range(len(X_test)):\n",
    "  img = X_test[i]\n",
    "  img = img.reshape(1,28,28,1)\n",
    "  img = img.astype('float32')\n",
    "  img = img/255.0\n",
    "  # one-hot vector output\n",
    "  vec_p = LeNet_model.predict(img)\n",
    "  out_list.append(output_specific_layer.predict(img))\n",
    "  img_data.append(output_img_data.predict(img))\n",
    "  print()\n",
    "  # determine the label corresponding to vector vec_p\n",
    "  y_p = np.argmax(vec_p)\n",
    "  y_test_pred.append(y_p)\n",
    "  vec_p_list.append(vec_p)\n",
    "  \n",
    "  \n",
    "# convert y_test_pred from list to array\n",
    "y_test_pred = np.asarray(y_test_pred)"
   ]
  },
  {
   "cell_type": "code",
   "execution_count": null,
   "metadata": {},
   "outputs": [],
   "source": [
    "con_mat = confusion_matrix(Y_test, y_test_pred)\n",
    "\n",
    "plt.figure(figsize = (8,6))\n",
    "sns.heatmap(con_mat, linewidths = 0.1, cmap = 'Greens', linecolor = 'gray', \n",
    "            fmt = '.1f', annot = True)\n",
    "plt.xlabel('Predicted classes', fontsize = 20)\n",
    "plt.ylabel('True classes', fontsize = 20)"
   ]
  },
  {
   "cell_type": "markdown",
   "metadata": {},
   "source": []
  },
  {
   "cell_type": "code",
   "execution_count": 103,
   "metadata": {},
   "outputs": [
    {
     "name": "stdout",
     "output_type": "stream",
     "text": [
      "0\n",
      "0\n",
      "0\n",
      "0\n",
      "1\n",
      "0\n",
      "0\n",
      "0\n",
      "69300 69300\n"
     ]
    },
    {
     "data": {
      "image/png": "[encoded data removed]",
      "text/plain": [
       "<Figure size 1200x500 with 8 Axes>"
      ]
     },
     "metadata": {},
     "output_type": "display_data"
    }
   ],
   "source": [
    "plt.figure(figsize = (12,5))\n",
    "for i in range(8):\n",
    "  ind = random.randint(0, len(X_train))\n",
    "  plt.subplot(240+1+i)\n",
    "  plt.imshow(train_img[i])\n",
    "  print(train_labels_binary[i])"
   ]
  },
  {
   "cell_type": "code",
   "execution_count": null,
   "metadata": {},
   "outputs": [],
   "source": [
    "#pandas display options\n",
    "pd.set_option('display.max_rows', 20)\n",
    "pd.set_option('display.max_columns', None)\n",
    "pd.set_option('display.max_colwidth', None)\n",
    "pd.set_option('display.float_format', '{:.6f}'.format)\n",
    "\n",
    "\n"
   ]
  },
  {
   "cell_type": "code",
   "execution_count": null,
   "metadata": {},
   "outputs": [],
   "source": [
    "#training_data_m2 = pd.DataFrame()\n",
    "\n",
    "training_data_m2['img last conv layer'] = img_data\n",
    "training_data_m2['argument before fc layer'] = out_list\n",
    "training_data_m2['m1 pred'] = y_test_pred\n",
    "training_data_m2['label'] = Y_test\n"
   ]
  },
  {
   "cell_type": "code",
   "execution_count": null,
   "metadata": {},
   "outputs": [],
   "source": [
    "training_data_m2.head(50)"
   ]
  },
  {
   "cell_type": "code",
   "execution_count": null,
   "metadata": {},
   "outputs": [],
   "source": [
    "#Save model / training data to file\n",
    "\n",
    "#LeNet_model.save('LeNet_model.keras')\n",
    "#training_data_m2.to_csv('training_data_m2.csv', index=False)"
   ]
  },
  {
   "cell_type": "markdown",
   "metadata": {},
   "source": [
    "Class-specific Activations:\n",
    "\n",
    "For each input image, you can extract the activations of the final layer (before the softmax) for each class. These activations represent how confident the model is about each class.\n",
    "The output would be a vector where each element corresponds to the confidence score of the corresponding class.\n",
    "\n",
    "Gradient-based Techniques:\n",
    "\n",
    "Compute the gradients of the predicted class score with respect to the input image pixels. This gradient vector will show how each pixel affects the model's decision.\n",
    "This gradient vector can be considered as a vector representing the reasoning behind the prediction.\n",
    "\n",
    "Saliency Maps:\n",
    "\n",
    "Compute the gradients of the model's output with respect to the input image pixels. This will result in a saliency map that highlights the importance of each pixel.\n",
    "Convert the saliency map into a vector by reshaping or flattening it.\n",
    "\n",
    "Attention Mechanisms:\n",
    "\n",
    "If your CNN uses attention mechanisms, you can extract the attention weights as a vector for a specific class prediction.\n",
    "Each element of the vector represents the attention weight assigned to a particular part of the input image.\n",
    "\n",
    "LIME (Local Interpretable Model-agnostic Explanations):\n",
    "\n",
    "Train a simpler, interpretable model on locally perturbed versions of the input image, and for each class, you can extract the model's output probabilities as a vector.\n",
    "These vectors represent the reasoning of the interpretable model for each class.\n",
    "\n",
    "Feature Visualization:\n",
    "\n",
    "You can generate synthetic input images that maximize the activation of a particular class. The process of generating these images will result in a vector that represents the ideal input for that class."
   ]
  }
 ],
 "metadata": {
  "kernelspec": {
   "display_name": "Python 3",
   "language": "python",
   "name": "python3"
  },
  "language_info": {
   "codemirror_mode": {
    "name": "ipython",
    "version": 3
   },
   "file_extension": ".py",
   "mimetype": "text/x-python",
   "name": "python",
   "nbconvert_exporter": "python",
   "pygments_lexer": "ipython3",
   "version": "3.10.2"
  },
  "orig_nbformat": 4
 },
 "nbformat": 4,
 "nbformat_minor": 2
}
