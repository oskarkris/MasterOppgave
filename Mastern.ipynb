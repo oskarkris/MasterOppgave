{
 "cells": [
  {
   "cell_type": "code",
   "execution_count": 15,
   "metadata": {},
   "outputs": [],
   "source": [
    "#!pip install keras\n",
    "#!pip install visualkeras\n"
   ]
  },
  {
   "cell_type": "code",
   "execution_count": 16,
   "metadata": {},
   "outputs": [],
   "source": [
    "#source code\n",
    "#https://github.com/KhuyenLE-maths/LeNet_model_with_MNIST_recognition/blob/main/LeNet_with_MNIST_recognition.ipynb"
   ]
  },
  {
   "cell_type": "code",
   "execution_count": 3,
   "metadata": {},
   "outputs": [],
   "source": [
    "from tensorflow import keras\n",
    "import keras.layers as layers\n",
    "from keras.utils import to_categorical\n",
    "from keras.models import Sequential,Model, load_model\n",
    "from keras.layers import Dense, Dropout, Flatten, Input,LeakyReLU,Conv2D, MaxPooling2D\n",
    "from keras.datasets import mnist\n",
    "from keras.optimizers import SGD\n",
    "from keras.metrics import categorical_crossentropy, binary_crossentropy\n",
    "import tensorflow as tf\n",
    "import visualkeras\n",
    "import matplotlib.pyplot as plt\n",
    "import random\n",
    "import numpy as np\n",
    "import pandas as pd\n",
    "import seaborn as sns\n",
    "from sklearn.metrics import confusion_matrix\n",
    "from sklearn.model_selection import train_test_split\n",
    "from itertools import chain"
   ]
  },
  {
   "cell_type": "code",
   "execution_count": 4,
   "metadata": {},
   "outputs": [],
   "source": [
    "#LeNet_model.save('LeNet_model.keras')\n",
    "LeNet_model = load_model('LeNet_model.keras')\n",
    "\n",
    "#df.to_csv('Pred_results.csv', index=False)\n",
    "df = pd.read_csv('Pred_results.csv')\n",
    "\n"
   ]
  },
  {
   "cell_type": "code",
   "execution_count": 18,
   "metadata": {},
   "outputs": [],
   "source": [
    "(train_images, _), (_, _) = mnist.load_data()\n",
    "\n",
    "# Choose an example image\n",
    "#index 1027 50%, index 0 100%\n",
    "example_index = 0\n",
    "input_image = train_images[example_index]"
   ]
  },
  {
   "cell_type": "code",
   "execution_count": 19,
   "metadata": {},
   "outputs": [
    {
     "name": "stdout",
     "output_type": "stream",
     "text": [
      "predicted probability:  1.0\n",
      "Gradient could not compute\n"
     ]
    }
   ],
   "source": [
    "#for input_image in train_images:\n",
    "# Convert the image to a TensorFlow tensor\n",
    "input_image = tf.convert_to_tensor(input_image, dtype=tf.float32)\n",
    "input_image = tf.reshape(input_image,(1,28,28,1))\n",
    "#epsilon = 1e-10  # Small epsilon value to avoid division by zero\n",
    "#input_image = input_image + epsilon\n",
    "with tf.GradientTape() as tape:\n",
    "    tape.watch(input_image)\n",
    "    predictions = LeNet_model(input_image)\n",
    "    target_class = tf.argmax(predictions[0])\n",
    "    #print(\"Predicted Class:\", target_class.numpy())\n",
    "\n",
    "\n",
    "if tf.reduce_sum(predictions) == 0:\n",
    "    print(\"Model predictions are all zeros.\")\n",
    "\n",
    "predicted_probability = predictions[0, target_class]\n",
    "print('predicted probability: ',predicted_probability.numpy())\n",
    "\n",
    "        \n",
    "gradient = tape.gradient(predictions[:, target_class], input_image)\n",
    "if gradient == None:\n",
    "    print('Gradient could not compute')"
   ]
  },
  {
   "cell_type": "code",
   "execution_count": 78,
   "metadata": {},
   "outputs": [
    {
     "name": "stdout",
     "output_type": "stream",
     "text": [
      "5\n",
      "None\n"
     ]
    }
   ],
   "source": [
    "print(target_class.numpy())\n",
    "print(gradient)\n",
    "#saliency_values = tf.abs(gradient)"
   ]
  },
  {
   "cell_type": "code",
   "execution_count": 15,
   "metadata": {},
   "outputs": [
    {
     "name": "stdout",
     "output_type": "stream",
     "text": [
      "X_train shape (49000, 28, 28) X_test shape (21000, 28, 28)\n"
     ]
    }
   ],
   "source": [
    "(X_train, Y_train), (X_test, Y_test) = mnist.load_data()\n",
    "x = np.concatenate((X_train, X_test))\n",
    "y = np.concatenate((Y_train, Y_test))\n",
    "train_size = 0.7\n",
    "X_train, X_test, Y_train, Y_test = train_test_split(x, y, train_size=train_size)\n",
    "print('X_train shape', X_train.shape, 'X_test shape', X_test.shape)"
   ]
  },
  {
   "cell_type": "code",
   "execution_count": 20,
   "metadata": {},
   "outputs": [
    {
     "data": {
      "text/plain": [
       "\"\\ntrain_mask = np.isin(Y_train, [0,1,2,3,4,5,6,7,8,9])\\ntest_mask = np.isin(Y_test, [0,1,2,3,4,5,6,7,8,9])\\n\\nX_train, Y_train = X_train[train_mask], np.array(Y_train[train_mask] == 8)\\nX_test, Y_test = X_test[test_mask], np.array(Y_test[test_mask] == 8)\\nprint('X_train shape', X_train.shape, 'X_test shape', X_test.shape,'Y_train shape', Y_train.shape, 'Y_test shape', Y_test.shape )\\n\""
      ]
     },
     "execution_count": 20,
     "metadata": {},
     "output_type": "execute_result"
    }
   ],
   "source": [
    "\"\"\"\n",
    "train_mask = np.isin(Y_train, [0,1,2,3,4,5,6,7,8,9])\n",
    "test_mask = np.isin(Y_test, [0,1,2,3,4,5,6,7,8,9])\n",
    "\n",
    "X_train, Y_train = X_train[train_mask], np.array(Y_train[train_mask] == 8)\n",
    "X_test, Y_test = X_test[test_mask], np.array(Y_test[test_mask] == 8)\n",
    "print('X_train shape', X_train.shape, 'X_test shape', X_test.shape,'Y_train shape', Y_train.shape, 'Y_test shape', Y_test.shape )\n",
    "\"\"\""
   ]
  },
  {
   "cell_type": "code",
   "execution_count": 21,
   "metadata": {},
   "outputs": [],
   "source": [
    "def LeNet():\n",
    "  model = Sequential()\n",
    "  \n",
    "  # Convolutional layer  \n",
    "  model.add(Conv2D(filters = 6, kernel_size = (5,5), padding = 'same', \n",
    "                   activation = 'relu', input_shape = (28,28,1)))\n",
    "  \n",
    "  # Max-pooing layer with pooling window size is 2x2\n",
    "  model.add(MaxPooling2D(pool_size = (2,2)))\n",
    "  \n",
    "  # Convolutional layer \n",
    "  model.add(Conv2D(filters = 16, kernel_size = (5,5), activation = 'relu'))\n",
    "  \n",
    "  # Max-pooling layer \n",
    "  model.add(MaxPooling2D(pool_size = (2,2)))\n",
    "  \n",
    "  # Flatten layer \n",
    "  model.add(Flatten())\n",
    "  \n",
    "  # The first fully connected layer \n",
    "  model.add(Dense(40, activation = 'relu'))\n",
    "  \n",
    "  # The output layer  \n",
    "  model.add(Dense(10, activation = 'softmax'))\n",
    "  \n",
    "  # compile the model with a loss function, a metric and an optimizer function\n",
    "  # In this case, the loss function is categorical crossentropy, \n",
    "  # we use Stochastic Gradient Descent (SGD) method with learning rate lr = 0.01 to optimize the loss function\n",
    "  # metric: accuracy \n",
    "  \n",
    "  opt = SGD(learning_rate=0.02)\n",
    "  model.compile(loss = categorical_crossentropy, \n",
    "                optimizer = opt, \n",
    "                metrics = ['accuracy']) \n",
    "                \n",
    "  return model"
   ]
  },
  {
   "cell_type": "code",
   "execution_count": 8,
   "metadata": {},
   "outputs": [],
   "source": [
    "def preprocess_data(X_train, y_train, X_test, y_test):\n",
    "  # reshape images to the required size of Keras\n",
    "  X_train = X_train.reshape(X_train.shape[0], X_train.shape[1], X_train.shape[2], 1)\n",
    "  X_test = X_test.reshape(X_test.shape[0], X_test.shape[1], X_test.shape[2], 1)\n",
    "  \n",
    "  # convert image values from integers to floats\n",
    "  X_train = X_train.astype('float32')\n",
    "  X_test = X_test.astype('float32')\n",
    "  \n",
    "  # normalization\n",
    "  X_train = X_train/255.0\n",
    "  X_test_norm = X_test/255.0\n",
    "  \n",
    "  # One-hot encoding label \n",
    "  y_train = to_categorical(y_train)\n",
    "  y_test = to_categorical(y_test)\n",
    "  \n",
    "  return X_train, y_train, X_test, y_test"
   ]
  },
  {
   "cell_type": "code",
   "execution_count": 23,
   "metadata": {},
   "outputs": [
    {
     "name": "stdout",
     "output_type": "stream",
     "text": [
      "Model: \"sequential\"\n",
      "_________________________________________________________________\n",
      " Layer (type)                Output Shape              Param #   \n",
      "=================================================================\n",
      " conv2d (Conv2D)             (None, 28, 28, 6)         156       \n",
      "                                                                 \n",
      " max_pooling2d (MaxPooling2  (None, 14, 14, 6)         0         \n",
      " D)                                                              \n",
      "                                                                 \n",
      " conv2d_1 (Conv2D)           (None, 10, 10, 16)        2416      \n",
      "                                                                 \n",
      " max_pooling2d_1 (MaxPoolin  (None, 5, 5, 16)          0         \n",
      " g2D)                                                            \n",
      "                                                                 \n",
      " flatten (Flatten)           (None, 400)               0         \n",
      "                                                                 \n",
      " dense (Dense)               (None, 40)                16040     \n",
      "                                                                 \n",
      " dense_1 (Dense)             (None, 10)                410       \n",
      "                                                                 \n",
      "=================================================================\n",
      "Total params: 19022 (74.30 KB)\n",
      "Trainable params: 19022 (74.30 KB)\n",
      "Non-trainable params: 0 (0.00 Byte)\n",
      "_________________________________________________________________\n"
     ]
    }
   ],
   "source": [
    "LeNet_model = LeNet()\n",
    "LeNet_model.summary()"
   ]
  },
  {
   "cell_type": "code",
   "execution_count": 24,
   "metadata": {},
   "outputs": [],
   "source": [
    "def summary_history(history):\n",
    "  plt.figure(figsize = (10,6))\n",
    "  plt.plot(history.history['accuracy'], color = 'blue', label = 'train')\n",
    "  plt.plot(history.history['val_accuracy'], color = 'red', label = 'val')\n",
    "  plt.legend()\n",
    "  plt.title('Accuracy')\n",
    "  plt.show()\n",
    "\n",
    "def train_model(model, X_train, y_train, X_test, y_test, epochs = 2, batch_size = 128):\n",
    "  # Rescaling all training and testing data\n",
    "  X_train, y_train, X_test, y_test = preprocess_data(X_train, y_train, X_test, y_test)\n",
    "  # Fitting the model on the training set\n",
    "  history = model.fit(X_train, y_train, epochs = epochs, batch_size = batch_size, \n",
    "                      steps_per_epoch = X_train.shape[0]//batch_size, \n",
    "                      validation_data = (X_test, y_test), \n",
    "                      validation_steps = X_test.shape[0]//batch_size, verbose = 1)\n",
    "  # evaluating the model\n",
    "  _, acc = model.evaluate(X_test, y_test, verbose = 1)\n",
    "  print('%.3f' % (acc * 100.0))\n",
    "  summary_history(history)"
   ]
  },
  {
   "cell_type": "code",
   "execution_count": null,
   "metadata": {},
   "outputs": [],
   "source": [
    "#train_model(LeNet_model, X_train, Y_train, X_test, Y_test)"
   ]
  },
  {
   "cell_type": "code",
   "execution_count": null,
   "metadata": {},
   "outputs": [
    {
     "data": {
      "image/png": "[encoded data removed]",
      "text/plain": [
       "<PIL.Image.Image image mode=RGBA size=262x150>"
      ]
     },
     "execution_count": 12,
     "metadata": {},
     "output_type": "execute_result"
    }
   ],
   "source": [
    "visualkeras.layered_view(LeNet_model)"
   ]
  },
  {
   "cell_type": "code",
   "execution_count": null,
   "metadata": {},
   "outputs": [],
   "source": [
    "# predict labels for the test set\n",
    "y_test_pred = []\n",
    "vec_p_list = []\n",
    "for i in range(len(X_test)):\n",
    "  img = X_test[i]\n",
    "  img = img.reshape(1,28,28,1)\n",
    "  img = img.astype('float32')\n",
    "  img = img/255.0\n",
    "  # one-hot vector output\n",
    "  vec_p = LeNet_model.predict(img)\n",
    "  # determine the label corresponding to vector vec_p\n",
    "  y_p = np.argmax(vec_p)\n",
    "  y_test_pred.append(y_p)\n",
    "  vec_p_list.append(vec_p)\n",
    "  \n",
    "# convert y_test_pred from list to array\n",
    "y_test_pred = np.asarray(y_test_pred)"
   ]
  },
  {
   "cell_type": "code",
   "execution_count": null,
   "metadata": {},
   "outputs": [
    {
     "data": {
      "text/plain": [
       "Text(70.72222222222221, 0.5, 'True classes')"
      ]
     },
     "execution_count": 13,
     "metadata": {},
     "output_type": "execute_result"
    },
    {
     "data": {
      "image/png": "[encoded data removed]",
      "text/plain": [
       "<Figure size 800x600 with 2 Axes>"
      ]
     },
     "metadata": {},
     "output_type": "display_data"
    }
   ],
   "source": [
    "con_mat = confusion_matrix(Y_test, y_test_pred)\n",
    "\n",
    "plt.figure(figsize = (8,6))\n",
    "sns.heatmap(con_mat, linewidths = 0.1, cmap = 'Greens', linecolor = 'gray', \n",
    "            fmt = '.1f', annot = True)\n",
    "plt.xlabel('Predicted classes', fontsize = 20)\n",
    "plt.ylabel('True classes', fontsize = 20)"
   ]
  },
  {
   "cell_type": "markdown",
   "metadata": {},
   "source": []
  },
  {
   "cell_type": "code",
   "execution_count": null,
   "metadata": {},
   "outputs": [
    {
     "data": {
      "image/png": "[encoded data removed]",
      "text/plain": [
       "<Figure size 1200x500 with 8 Axes>"
      ]
     },
     "metadata": {},
     "output_type": "display_data"
    }
   ],
   "source": [
    "plt.figure(figsize = (12,5))\n",
    "for i in range(8):\n",
    "  ind = random.randint(0, len(X_train))\n",
    "  plt.subplot(240+1+i)\n",
    "  plt.imshow(X_train[ind])"
   ]
  },
  {
   "cell_type": "code",
   "execution_count": null,
   "metadata": {},
   "outputs": [],
   "source": [
    "#pandas display options\n",
    "pd.set_option('display.max_rows', 20)\n",
    "pd.set_option('display.max_columns', None)\n",
    "pd.set_option('display.max_colwidth', None)\n",
    "pd.set_option('display.float_format', '{:.6f}'.format)\n",
    "\n",
    "\n"
   ]
  },
  {
   "cell_type": "code",
   "execution_count": null,
   "metadata": {},
   "outputs": [
    {
     "ename": "NameError",
     "evalue": "name 'Y_test' is not defined",
     "output_type": "error",
     "traceback": [
      "\u001b[1;31m---------------------------------------------------------------------------\u001b[0m",
      "\u001b[1;31mNameError\u001b[0m                                 Traceback (most recent call last)",
      "\u001b[1;32mc:\\Users\\oskar\\Documents\\GitHub\\MasterOppgave\\Mastern.ipynb Cell 18\u001b[0m line \u001b[0;36m<cell line: 3>\u001b[1;34m()\u001b[0m\n\u001b[0;32m      <a href='vscode-notebook-cell:/c%3A/Users/oskar/Documents/GitHub/MasterOppgave/Mastern.ipynb#X23sZmlsZQ%3D%3D?line=0'>1</a>\u001b[0m \u001b[39m#creating a dataframe from the output of M1\u001b[39;00m\n\u001b[0;32m      <a href='vscode-notebook-cell:/c%3A/Users/oskar/Documents/GitHub/MasterOppgave/Mastern.ipynb#X23sZmlsZQ%3D%3D?line=1'>2</a>\u001b[0m df \u001b[39m=\u001b[39m pd\u001b[39m.\u001b[39mDataFrame()\n\u001b[1;32m----> <a href='vscode-notebook-cell:/c%3A/Users/oskar/Documents/GitHub/MasterOppgave/Mastern.ipynb#X23sZmlsZQ%3D%3D?line=2'>3</a>\u001b[0m df[\u001b[39m'\u001b[39m\u001b[39mlabel\u001b[39m\u001b[39m'\u001b[39m] \u001b[39m=\u001b[39m Y_test\n\u001b[0;32m      <a href='vscode-notebook-cell:/c%3A/Users/oskar/Documents/GitHub/MasterOppgave/Mastern.ipynb#X23sZmlsZQ%3D%3D?line=3'>4</a>\u001b[0m df[\u001b[39m'\u001b[39m\u001b[39mpred\u001b[39m\u001b[39m'\u001b[39m] \u001b[39m=\u001b[39m y_test_pred\n\u001b[0;32m      <a href='vscode-notebook-cell:/c%3A/Users/oskar/Documents/GitHub/MasterOppgave/Mastern.ipynb#X23sZmlsZQ%3D%3D?line=4'>5</a>\u001b[0m df[\u001b[39m'\u001b[39m\u001b[39mpred\u001b[39m\u001b[39m'\u001b[39m] \u001b[39m=\u001b[39m pd\u001b[39m.\u001b[39mto_numeric(df[\u001b[39m'\u001b[39m\u001b[39mpred\u001b[39m\u001b[39m'\u001b[39m], errors\u001b[39m=\u001b[39m\u001b[39m'\u001b[39m\u001b[39mcoerce\u001b[39m\u001b[39m'\u001b[39m)\u001b[39m.\u001b[39mastype(\u001b[39m'\u001b[39m\u001b[39mInt64\u001b[39m\u001b[39m'\u001b[39m)\n",
      "\u001b[1;31mNameError\u001b[0m: name 'Y_test' is not defined"
     ]
    }
   ],
   "source": [
    "#creating a dataframe from the output of M1\n",
    "df = pd.DataFrame()\n",
    "df['label'] = Y_test\n",
    "df['pred'] = y_test_pred\n"
   ]
  },
  {
   "cell_type": "code",
   "execution_count": null,
   "metadata": {},
   "outputs": [],
   "source": [
    "#creating column placeholders for probability of numbers 0-9\n",
    "cols = ['prob_' + str(x) for x in range(10)]\n",
    "\n",
    "#adding values to the columns\n",
    "index = 0\n",
    "for values in vec_p_list:\n",
    "    for single,col in zip(values[0],cols):\n",
    "      df.at[index, col] = single\n",
    "    index += 1\n",
    "\n",
    "\n",
    "   \n",
    "   "
   ]
  },
  {
   "cell_type": "code",
   "execution_count": null,
   "metadata": {},
   "outputs": [],
   "source": [
    "#restricting domain to samples where prediction == 9\n",
    "df = df.loc[df['pred'] == 9]\n",
    "\n",
    "df['pred'] = pd.to_numeric(df['pred'], errors='coerce').astype('Int64')\n",
    "df['label'] = pd.to_numeric(df['label'], errors='coerce').astype('Int64')"
   ]
  },
  {
   "cell_type": "code",
   "execution_count": null,
   "metadata": {},
   "outputs": [],
   "source": [
    "#restricting domain to only false negatives\n",
    "df2 = df.loc[df['pred'] != 9]\n",
    "\n"
   ]
  },
  {
   "cell_type": "code",
   "execution_count": null,
   "metadata": {},
   "outputs": [
    {
     "data": {
      "text/html": [
       "<div>\n",
       "<style scoped>\n",
       "    .dataframe tbody tr th:only-of-type {\n",
       "        vertical-align: middle;\n",
       "    }\n",
       "\n",
       "    .dataframe tbody tr th {\n",
       "        vertical-align: top;\n",
       "    }\n",
       "\n",
       "    .dataframe thead th {\n",
       "        text-align: right;\n",
       "    }\n",
       "</style>\n",
       "<table border=\"1\" class=\"dataframe\">\n",
       "  <thead>\n",
       "    <tr style=\"text-align: right;\">\n",
       "      <th></th>\n",
       "      <th>label</th>\n",
       "      <th>pred</th>\n",
       "      <th>prob_0</th>\n",
       "      <th>prob_1</th>\n",
       "      <th>prob_2</th>\n",
       "      <th>prob_3</th>\n",
       "      <th>prob_4</th>\n",
       "      <th>prob_5</th>\n",
       "      <th>prob_6</th>\n",
       "      <th>prob_7</th>\n",
       "      <th>prob_8</th>\n",
       "      <th>prob_9</th>\n",
       "    </tr>\n",
       "  </thead>\n",
       "  <tbody>\n",
       "    <tr>\n",
       "      <th>0</th>\n",
       "      <td>9</td>\n",
       "      <td>9</td>\n",
       "      <td>0.000000</td>\n",
       "      <td>0.000003</td>\n",
       "      <td>0.000000</td>\n",
       "      <td>0.000564</td>\n",
       "      <td>0.006375</td>\n",
       "      <td>0.000185</td>\n",
       "      <td>0.000000</td>\n",
       "      <td>0.000985</td>\n",
       "      <td>0.000209</td>\n",
       "      <td>0.991680</td>\n",
       "    </tr>\n",
       "    <tr>\n",
       "      <th>1</th>\n",
       "      <td>9</td>\n",
       "      <td>9</td>\n",
       "      <td>0.000000</td>\n",
       "      <td>0.000007</td>\n",
       "      <td>0.000000</td>\n",
       "      <td>0.000335</td>\n",
       "      <td>0.071155</td>\n",
       "      <td>0.001312</td>\n",
       "      <td>0.000000</td>\n",
       "      <td>0.000124</td>\n",
       "      <td>0.001013</td>\n",
       "      <td>0.926053</td>\n",
       "    </tr>\n",
       "    <tr>\n",
       "      <th>2</th>\n",
       "      <td>9</td>\n",
       "      <td>9</td>\n",
       "      <td>0.000000</td>\n",
       "      <td>0.000001</td>\n",
       "      <td>0.000384</td>\n",
       "      <td>0.000638</td>\n",
       "      <td>0.029162</td>\n",
       "      <td>0.000063</td>\n",
       "      <td>0.000000</td>\n",
       "      <td>0.000251</td>\n",
       "      <td>0.000116</td>\n",
       "      <td>0.969386</td>\n",
       "    </tr>\n",
       "    <tr>\n",
       "      <th>3</th>\n",
       "      <td>9</td>\n",
       "      <td>9</td>\n",
       "      <td>0.000000</td>\n",
       "      <td>0.000148</td>\n",
       "      <td>0.000003</td>\n",
       "      <td>0.004357</td>\n",
       "      <td>0.018246</td>\n",
       "      <td>0.005542</td>\n",
       "      <td>0.000001</td>\n",
       "      <td>0.007433</td>\n",
       "      <td>0.002326</td>\n",
       "      <td>0.961944</td>\n",
       "    </tr>\n",
       "    <tr>\n",
       "      <th>4</th>\n",
       "      <td>9</td>\n",
       "      <td>9</td>\n",
       "      <td>0.000000</td>\n",
       "      <td>0.000000</td>\n",
       "      <td>0.000002</td>\n",
       "      <td>0.000495</td>\n",
       "      <td>0.013777</td>\n",
       "      <td>0.001453</td>\n",
       "      <td>0.000000</td>\n",
       "      <td>0.000116</td>\n",
       "      <td>0.000010</td>\n",
       "      <td>0.984148</td>\n",
       "    </tr>\n",
       "    <tr>\n",
       "      <th>...</th>\n",
       "      <td>...</td>\n",
       "      <td>...</td>\n",
       "      <td>...</td>\n",
       "      <td>...</td>\n",
       "      <td>...</td>\n",
       "      <td>...</td>\n",
       "      <td>...</td>\n",
       "      <td>...</td>\n",
       "      <td>...</td>\n",
       "      <td>...</td>\n",
       "      <td>...</td>\n",
       "      <td>...</td>\n",
       "    </tr>\n",
       "    <tr>\n",
       "      <th>2273</th>\n",
       "      <td>9</td>\n",
       "      <td>9</td>\n",
       "      <td>0.000020</td>\n",
       "      <td>0.144912</td>\n",
       "      <td>0.000411</td>\n",
       "      <td>0.025318</td>\n",
       "      <td>0.163595</td>\n",
       "      <td>0.007841</td>\n",
       "      <td>0.000179</td>\n",
       "      <td>0.020932</td>\n",
       "      <td>0.016453</td>\n",
       "      <td>0.620339</td>\n",
       "    </tr>\n",
       "    <tr>\n",
       "      <th>2274</th>\n",
       "      <td>9</td>\n",
       "      <td>9</td>\n",
       "      <td>0.000014</td>\n",
       "      <td>0.013241</td>\n",
       "      <td>0.000166</td>\n",
       "      <td>0.028715</td>\n",
       "      <td>0.010389</td>\n",
       "      <td>0.012465</td>\n",
       "      <td>0.000005</td>\n",
       "      <td>0.166758</td>\n",
       "      <td>0.031100</td>\n",
       "      <td>0.737146</td>\n",
       "    </tr>\n",
       "    <tr>\n",
       "      <th>2275</th>\n",
       "      <td>9</td>\n",
       "      <td>9</td>\n",
       "      <td>0.000002</td>\n",
       "      <td>0.000025</td>\n",
       "      <td>0.000016</td>\n",
       "      <td>0.002523</td>\n",
       "      <td>0.073516</td>\n",
       "      <td>0.004917</td>\n",
       "      <td>0.000006</td>\n",
       "      <td>0.002145</td>\n",
       "      <td>0.001805</td>\n",
       "      <td>0.915045</td>\n",
       "    </tr>\n",
       "    <tr>\n",
       "      <th>2276</th>\n",
       "      <td>9</td>\n",
       "      <td>9</td>\n",
       "      <td>0.000001</td>\n",
       "      <td>0.000000</td>\n",
       "      <td>0.000003</td>\n",
       "      <td>0.000033</td>\n",
       "      <td>0.001868</td>\n",
       "      <td>0.000004</td>\n",
       "      <td>0.000000</td>\n",
       "      <td>0.039483</td>\n",
       "      <td>0.000025</td>\n",
       "      <td>0.958583</td>\n",
       "    </tr>\n",
       "    <tr>\n",
       "      <th>2277</th>\n",
       "      <td>9</td>\n",
       "      <td>9</td>\n",
       "      <td>0.000001</td>\n",
       "      <td>0.000000</td>\n",
       "      <td>0.000000</td>\n",
       "      <td>0.000689</td>\n",
       "      <td>0.002309</td>\n",
       "      <td>0.000684</td>\n",
       "      <td>0.000000</td>\n",
       "      <td>0.000716</td>\n",
       "      <td>0.000107</td>\n",
       "      <td>0.995492</td>\n",
       "    </tr>\n",
       "  </tbody>\n",
       "</table>\n",
       "<p>2278 rows × 12 columns</p>\n",
       "</div>"
      ],
      "text/plain": [
       "      label  pred   prob_0   prob_1   prob_2   prob_3   prob_4   prob_5   \n",
       "0         9     9 0.000000 0.000003 0.000000 0.000564 0.006375 0.000185  \\\n",
       "1         9     9 0.000000 0.000007 0.000000 0.000335 0.071155 0.001312   \n",
       "2         9     9 0.000000 0.000001 0.000384 0.000638 0.029162 0.000063   \n",
       "3         9     9 0.000000 0.000148 0.000003 0.004357 0.018246 0.005542   \n",
       "4         9     9 0.000000 0.000000 0.000002 0.000495 0.013777 0.001453   \n",
       "...     ...   ...      ...      ...      ...      ...      ...      ...   \n",
       "2273      9     9 0.000020 0.144912 0.000411 0.025318 0.163595 0.007841   \n",
       "2274      9     9 0.000014 0.013241 0.000166 0.028715 0.010389 0.012465   \n",
       "2275      9     9 0.000002 0.000025 0.000016 0.002523 0.073516 0.004917   \n",
       "2276      9     9 0.000001 0.000000 0.000003 0.000033 0.001868 0.000004   \n",
       "2277      9     9 0.000001 0.000000 0.000000 0.000689 0.002309 0.000684   \n",
       "\n",
       "       prob_6   prob_7   prob_8   prob_9  \n",
       "0    0.000000 0.000985 0.000209 0.991680  \n",
       "1    0.000000 0.000124 0.001013 0.926053  \n",
       "2    0.000000 0.000251 0.000116 0.969386  \n",
       "3    0.000001 0.007433 0.002326 0.961944  \n",
       "4    0.000000 0.000116 0.000010 0.984148  \n",
       "...       ...      ...      ...      ...  \n",
       "2273 0.000179 0.020932 0.016453 0.620339  \n",
       "2274 0.000005 0.166758 0.031100 0.737146  \n",
       "2275 0.000006 0.002145 0.001805 0.915045  \n",
       "2276 0.000000 0.039483 0.000025 0.958583  \n",
       "2277 0.000000 0.000716 0.000107 0.995492  \n",
       "\n",
       "[2278 rows x 12 columns]"
      ]
     },
     "execution_count": 25,
     "metadata": {},
     "output_type": "execute_result"
    }
   ],
   "source": [
    "df"
   ]
  },
  {
   "cell_type": "code",
   "execution_count": null,
   "metadata": {},
   "outputs": [
    {
     "name": "stdout",
     "output_type": "stream",
     "text": [
      "[0 9 0 ... 7 1 6]\n"
     ]
    }
   ],
   "source": [
    "print(Y_test)"
   ]
  },
  {
   "cell_type": "markdown",
   "metadata": {},
   "source": [
    "Class-specific Activations:\n",
    "\n",
    "For each input image, you can extract the activations of the final layer (before the softmax) for each class. These activations represent how confident the model is about each class.\n",
    "The output would be a vector where each element corresponds to the confidence score of the corresponding class.\n",
    "\n",
    "Gradient-based Techniques:\n",
    "\n",
    "Compute the gradients of the predicted class score with respect to the input image pixels. This gradient vector will show how each pixel affects the model's decision.\n",
    "This gradient vector can be considered as a vector representing the reasoning behind the prediction.\n",
    "\n",
    "Saliency Maps:\n",
    "\n",
    "Compute the gradients of the model's output with respect to the input image pixels. This will result in a saliency map that highlights the importance of each pixel.\n",
    "Convert the saliency map into a vector by reshaping or flattening it.\n",
    "\n",
    "Attention Mechanisms:\n",
    "\n",
    "If your CNN uses attention mechanisms, you can extract the attention weights as a vector for a specific class prediction.\n",
    "Each element of the vector represents the attention weight assigned to a particular part of the input image.\n",
    "\n",
    "LIME (Local Interpretable Model-agnostic Explanations):\n",
    "\n",
    "Train a simpler, interpretable model on locally perturbed versions of the input image, and for each class, you can extract the model's output probabilities as a vector.\n",
    "These vectors represent the reasoning of the interpretable model for each class.\n",
    "\n",
    "Feature Visualization:\n",
    "\n",
    "You can generate synthetic input images that maximize the activation of a particular class. The process of generating these images will result in a vector that represents the ideal input for that class."
   ]
  }
 ],
 "metadata": {
  "kernelspec": {
   "display_name": "Python 3",
   "language": "python",
   "name": "python3"
  },
  "language_info": {
   "codemirror_mode": {
    "name": "ipython",
    "version": 3
   },
   "file_extension": ".py",
   "mimetype": "text/x-python",
   "name": "python",
   "nbconvert_exporter": "python",
   "pygments_lexer": "ipython3",
   "version": "3.10.2"
  },
  "orig_nbformat": 4
 },
 "nbformat": 4,
 "nbformat_minor": 2
}
