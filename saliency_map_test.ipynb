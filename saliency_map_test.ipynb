{
 "cells": [
  {
   "cell_type": "code",
   "execution_count": null,
   "metadata": {},
   "outputs": [],
   "source": [
    "from tensorflow import keras\n",
    "import keras.layers as layers\n",
    "from keras.utils import to_categorical\n",
    "from keras.models import Sequential,Model, load_model\n",
    "from keras.layers import Dense, Dropout, Flatten, Input,LeakyReLU,Conv2D, MaxPooling2D\n",
    "from keras.datasets import mnist\n",
    "from keras.optimizers import SGD\n",
    "from keras.metrics import categorical_crossentropy, binary_crossentropy\n",
    "import tensorflow as tf\n",
    "import visualkeras\n",
    "import matplotlib.pyplot as plt\n",
    "import random\n",
    "import numpy as np\n",
    "import pandas as pd\n",
    "import seaborn as sns\n",
    "from sklearn.metrics import confusion_matrix\n",
    "from sklearn.model_selection import train_test_split\n",
    "from itertools import chain"
   ]
  },
  {
   "cell_type": "code",
   "execution_count": null,
   "metadata": {},
   "outputs": [],
   "source": [
    "(train_images, _), (_, _) = mnist.load_data()\n",
    "\n",
    "# Choose an example image\n",
    "#index 1027 50%, index 0 100%\n",
    "example_index = 0\n",
    "input_image = train_images[example_index] "
   ]
  },
  {
   "cell_type": "code",
   "execution_count": null,
   "metadata": {},
   "outputs": [],
   "source": [
    "\"\"\" #for input_image in train_images:\n",
    "# Convert the image to a TensorFlow tensor\n",
    "input_image = tf.convert_to_tensor(input_image, dtype=tf.float32)\n",
    "input_image = tf.reshape(input_image,(1,28,28,1))\n",
    "#epsilon = 1e-10  # Small epsilon value to avoid division by zero\n",
    "#input_image = input_image + epsilon\n",
    "with tf.GradientTape() as tape:\n",
    "    tape.watch(input_image)\n",
    "    predictions = LeNet_model(input_image)\n",
    "    target_class = tf.argmax(predictions[0])\n",
    "    #print(\"Predicted Class:\", target_class.numpy())\n",
    "\n",
    "\n",
    "if tf.reduce_sum(predictions) == 0:\n",
    "    print(\"Model predictions are all zeros.\")\n",
    "\n",
    "predicted_probability = predictions[0, target_class]\n",
    "print('predicted probability: ',predicted_probability.numpy())\n",
    "\n",
    "        \n",
    "gradient = tape.gradient(predictions[:, target_class], input_image)\n",
    "if gradient == None:\n",
    "    print('Gradient could not compute') \"\"\""
   ]
  },
  {
   "cell_type": "code",
   "execution_count": null,
   "metadata": {},
   "outputs": [],
   "source": [
    "print(target_class.numpy())\n",
    "print(gradient)\n",
    "#saliency_values = tf.abs(gradient)"
   ]
  }
 ],
 "metadata": {
  "language_info": {
   "name": "python"
  }
 },
 "nbformat": 4,
 "nbformat_minor": 2
}
