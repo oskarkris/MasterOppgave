{
 "cells": [
  {
   "cell_type": "code",
   "execution_count": 1,
   "metadata": {},
   "outputs": [],
   "source": [
    "from tensorflow import keras\n",
    "import keras.layers as layers\n",
    "from keras.utils import to_categorical\n",
    "from keras.models import Sequential,Model, load_model\n",
    "from keras.layers import Dense, Dropout, Flatten, Input,LeakyReLU,Conv2D, MaxPooling2D\n",
    "from keras.datasets import mnist\n",
    "from keras.optimizers import SGD\n",
    "from keras.metrics import categorical_crossentropy, binary_crossentropy\n",
    "import tensorflow as tf\n",
    "import visualkeras\n",
    "import matplotlib.pyplot as plt\n",
    "import random\n",
    "import numpy as np\n",
    "import pandas as pd\n",
    "import seaborn as sns\n",
    "from sklearn.metrics import confusion_matrix\n",
    "from sklearn.model_selection import train_test_split\n",
    "from itertools import chain\n",
    "import ast"
   ]
  },
  {
   "cell_type": "code",
   "execution_count": 34,
   "metadata": {},
   "outputs": [],
   "source": [
    "def m2():\n",
    "  model = Sequential()\n",
    "     # Flatten layer \n",
    "  #model.add(Flatten())\n",
    "  \n",
    "  # The first fully connected layer \n",
    "  model.add(Dense(120, activation = 'relu', input_shape=(40,)))\n",
    "\n",
    "  model.add(Dense(60, activation = 'relu'))\n",
    "  \n",
    "  # The output layer  \n",
    "  model.add(Dense(1, activation = 'sigmoid'))\n",
    "\n",
    "  opt = SGD(learning_rate=0.02)\n",
    "  model.compile(loss = binary_crossentropy,\n",
    "                optimizer = opt, \n",
    "                metrics = ['accuracy']) \n",
    "  \n",
    "  return model\n",
    "\n",
    "m2_instance = m2()"
   ]
  },
  {
   "cell_type": "code",
   "execution_count": 5,
   "metadata": {},
   "outputs": [
    {
     "name": "stdout",
     "output_type": "stream",
     "text": [
      "<class 'pandas.core.frame.DataFrame'>\n",
      "RangeIndex: 14000 entries, 0 to 13999\n",
      "Data columns (total 4 columns):\n",
      " #   Column                    Non-Null Count  Dtype \n",
      "---  ------                    --------------  ----- \n",
      " 0   img last conv layer       14000 non-null  object\n",
      " 1   argument before fc layer  14000 non-null  object\n",
      " 2   m1 pred                   14000 non-null  int64 \n",
      " 3   label                     14000 non-null  int64 \n",
      "dtypes: int64(2), object(2)\n",
      "memory usage: 437.6+ KB\n"
     ]
    }
   ],
   "source": [
    "training_data_m2 = pd.read_csv('training_data_m2.csv')\n",
    "training_data_m2.info()"
   ]
  },
  {
   "cell_type": "code",
   "execution_count": null,
   "metadata": {},
   "outputs": [],
   "source": []
  },
  {
   "cell_type": "code",
   "execution_count": 6,
   "metadata": {},
   "outputs": [],
   "source": [
    "argument_float = []\n",
    "for string_data in training_data_m2['argument before fc layer']:\n",
    "    string_data = string_data.replace(\"[\", \"\").replace(\"]\", \"\").replace(\"\\r\\n\", \"\").strip()\n",
    "    values = string_data.split()\n",
    "    float_values = [float(value) for value in values]\n",
    "    argument_float.append(float_values)\n",
    "\n",
    "training_data_m2['argument'] = argument_float\n",
    "training_data_m2 = training_data_m2.drop(['argument before fc layer', 'img last conv layer', 'm1 pred'], axis = 1)\n",
    "    \n"
   ]
  },
  {
   "cell_type": "code",
   "execution_count": 7,
   "metadata": {},
   "outputs": [],
   "source": [
    "X_train, X_test, Y_train, Y_test = train_test_split(training_data_m2['argument'], \n",
    "                                                    training_data_m2['label'],\n",
    "                                                    train_size=0.8\n",
    "                                                    )\n"
   ]
  },
  {
   "cell_type": "code",
   "execution_count": 41,
   "metadata": {},
   "outputs": [],
   "source": [
    "batch_size = 128\n",
    "epochs = 50\n",
    "\n",
    "def data_generator(data, labels):\n",
    "    for inn, label in zip(data, labels):\n",
    "        yield np.array(inn), [label]\n",
    "\n",
    "train_dataset = tf.data.Dataset.from_generator(\n",
    "    lambda: data_generator(X_train, Y_train),\n",
    "    output_signature=(\n",
    "        tf.TensorSpec(shape=(40,), dtype=tf.float32),\n",
    "        tf.TensorSpec(shape=(1,), dtype=tf.float32)\n",
    "    )\n",
    ").batch(batch_size)\n",
    "\n",
    "test_dataset = tf.data.Dataset.from_generator(\n",
    "    lambda: data_generator(X_test, Y_test),\n",
    "    output_signature=(\n",
    "        tf.TensorSpec(shape=(40,), dtype=tf.float32),\n",
    "        tf.TensorSpec(shape=(1,), dtype=tf.float32)\n",
    "    )\n",
    ").batch(batch_size)"
   ]
  },
  {
   "cell_type": "code",
   "execution_count": null,
   "metadata": {},
   "outputs": [],
   "source": [
    "# Convert numpy arrays to TensorFlow tensors\n",
    "\"\"\"\n",
    "train_data_tensor = tf.convert_to_tensor(X_train, dtype=tf.float32)\n",
    "train_label_tensor = tf.convert_to_tensor(Y_train, dtype=tf.float32)\n",
    "\n",
    "test_data_tensor = tf.convert_to_tensor(X_test, dtype=tf.float32)\n",
    "test_label_tensor = tf.convert_to_tensor(Y_test, dtype=tf.float32)\n",
    "\n",
    "# Create datasets\n",
    "train_dataset = tf.data.Dataset.from_tensor_slices((train_data_tensor, train_label_tensor))\n",
    "test_dataset = tf.data.Dataset.from_tensor_slices((test_data_tensor, test_label_tensor))\n",
    "\n",
    "# Shuffle and batch the datasets\n",
    "train_dataset = train_dataset.shuffle(buffer_size=len(train_data_tensor)).batch(batch_size)\n",
    "test_dataset = test_dataset.batch(batch_size)\n",
    "\"\"\""
   ]
  },
  {
   "cell_type": "code",
   "execution_count": 31,
   "metadata": {},
   "outputs": [
    {
     "name": "stdout",
     "output_type": "stream",
     "text": [
      "Sample data shape: (128, 40)\n",
      "Sample label shape: (128, 1)\n"
     ]
    }
   ],
   "source": [
    "sample_data, sample_label = next(iter(train_dataset))\n",
    "\n",
    "# Check the shape of the sample data and label\n",
    "print(\"Sample data shape:\", sample_data.shape)\n",
    "print(\"Sample label shape:\", sample_label.shape)\n",
    "\n"
   ]
  },
  {
   "cell_type": "code",
   "execution_count": 35,
   "metadata": {},
   "outputs": [],
   "source": [
    "\"\"\"\n",
    "def preprocess_data(data, label):\n",
    "    # Reshape data to match model input shape\n",
    "    data = tf.reshape(data, (400,))\n",
    "    return data, label\n",
    "\n",
    "\n",
    "train_dataset = train_dataset.map(preprocess_data)\n",
    "test_dataset = test_dataset.map(preprocess_data)\n",
    "\"\"\""
   ]
  },
  {
   "cell_type": "code",
   "execution_count": 42,
   "metadata": {},
   "outputs": [
    {
     "name": "stdout",
     "output_type": "stream",
     "text": [
      "Epoch 1/50\n",
      "88/88 [==============================] - 2s 25ms/step - loss: 0.0995 - accuracy: 0.9659 - val_loss: 0.0919 - val_accuracy: 0.9661\n",
      "Epoch 2/50\n",
      "88/88 [==============================] - 2s 23ms/step - loss: 0.0986 - accuracy: 0.9662 - val_loss: 0.0913 - val_accuracy: 0.9661\n",
      "Epoch 3/50\n",
      "88/88 [==============================] - 2s 23ms/step - loss: 0.0979 - accuracy: 0.9666 - val_loss: 0.0908 - val_accuracy: 0.9664\n",
      "Epoch 4/50\n",
      "88/88 [==============================] - 2s 24ms/step - loss: 0.0972 - accuracy: 0.9668 - val_loss: 0.0903 - val_accuracy: 0.9675\n",
      "Epoch 5/50\n",
      "88/88 [==============================] - 2s 22ms/step - loss: 0.0967 - accuracy: 0.9671 - val_loss: 0.0899 - val_accuracy: 0.9675\n",
      "Epoch 6/50\n",
      "88/88 [==============================] - 2s 22ms/step - loss: 0.0961 - accuracy: 0.9672 - val_loss: 0.0894 - val_accuracy: 0.9679\n",
      "Epoch 7/50\n",
      "88/88 [==============================] - 2s 24ms/step - loss: 0.0956 - accuracy: 0.9674 - val_loss: 0.0889 - val_accuracy: 0.9679\n",
      "Epoch 8/50\n",
      "88/88 [==============================] - 2s 24ms/step - loss: 0.0951 - accuracy: 0.9675 - val_loss: 0.0885 - val_accuracy: 0.9675\n",
      "Epoch 9/50\n",
      "88/88 [==============================] - 2s 24ms/step - loss: 0.0947 - accuracy: 0.9677 - val_loss: 0.0881 - val_accuracy: 0.9679\n",
      "Epoch 10/50\n",
      "88/88 [==============================] - 2s 22ms/step - loss: 0.0942 - accuracy: 0.9678 - val_loss: 0.0877 - val_accuracy: 0.9679\n",
      "Epoch 11/50\n",
      "88/88 [==============================] - 2s 22ms/step - loss: 0.0938 - accuracy: 0.9681 - val_loss: 0.0873 - val_accuracy: 0.9682\n",
      "Epoch 12/50\n",
      "88/88 [==============================] - 2s 23ms/step - loss: 0.0934 - accuracy: 0.9683 - val_loss: 0.0869 - val_accuracy: 0.9682\n",
      "Epoch 13/50\n",
      "88/88 [==============================] - 2s 23ms/step - loss: 0.0930 - accuracy: 0.9685 - val_loss: 0.0866 - val_accuracy: 0.9686\n",
      "Epoch 14/50\n",
      "88/88 [==============================] - 2s 20ms/step - loss: 0.0926 - accuracy: 0.9688 - val_loss: 0.0862 - val_accuracy: 0.9686\n",
      "Epoch 15/50\n",
      "88/88 [==============================] - 2s 20ms/step - loss: 0.0922 - accuracy: 0.9688 - val_loss: 0.0858 - val_accuracy: 0.9682\n",
      "Epoch 16/50\n",
      "88/88 [==============================] - 2s 20ms/step - loss: 0.0919 - accuracy: 0.9688 - val_loss: 0.0855 - val_accuracy: 0.9682\n",
      "Epoch 17/50\n",
      "88/88 [==============================] - 2s 25ms/step - loss: 0.0915 - accuracy: 0.9691 - val_loss: 0.0852 - val_accuracy: 0.9682\n",
      "Epoch 18/50\n",
      "88/88 [==============================] - 3s 37ms/step - loss: 0.0911 - accuracy: 0.9692 - val_loss: 0.0848 - val_accuracy: 0.9686\n",
      "Epoch 19/50\n",
      "88/88 [==============================] - 2s 27ms/step - loss: 0.0908 - accuracy: 0.9695 - val_loss: 0.0845 - val_accuracy: 0.9686\n",
      "Epoch 20/50\n",
      "88/88 [==============================] - 3s 29ms/step - loss: 0.0904 - accuracy: 0.9697 - val_loss: 0.0842 - val_accuracy: 0.9686\n",
      "Epoch 21/50\n",
      "88/88 [==============================] - 2s 24ms/step - loss: 0.0901 - accuracy: 0.9698 - val_loss: 0.0839 - val_accuracy: 0.9682\n",
      "Epoch 22/50\n",
      "88/88 [==============================] - 2s 22ms/step - loss: 0.0898 - accuracy: 0.9701 - val_loss: 0.0836 - val_accuracy: 0.9682\n",
      "Epoch 23/50\n",
      "88/88 [==============================] - 2s 21ms/step - loss: 0.0894 - accuracy: 0.9700 - val_loss: 0.0833 - val_accuracy: 0.9686\n",
      "Epoch 24/50\n",
      "88/88 [==============================] - 2s 21ms/step - loss: 0.0891 - accuracy: 0.9703 - val_loss: 0.0830 - val_accuracy: 0.9682\n",
      "Epoch 25/50\n",
      "88/88 [==============================] - 2s 21ms/step - loss: 0.0887 - accuracy: 0.9703 - val_loss: 0.0827 - val_accuracy: 0.9682\n",
      "Epoch 26/50\n",
      "88/88 [==============================] - 2s 22ms/step - loss: 0.0884 - accuracy: 0.9704 - val_loss: 0.0824 - val_accuracy: 0.9686\n",
      "Epoch 27/50\n",
      "88/88 [==============================] - 2s 23ms/step - loss: 0.0880 - accuracy: 0.9704 - val_loss: 0.0821 - val_accuracy: 0.9689\n",
      "Epoch 28/50\n",
      "88/88 [==============================] - 2s 23ms/step - loss: 0.0877 - accuracy: 0.9704 - val_loss: 0.0818 - val_accuracy: 0.9693\n",
      "Epoch 29/50\n",
      "88/88 [==============================] - 2s 21ms/step - loss: 0.0874 - accuracy: 0.9705 - val_loss: 0.0815 - val_accuracy: 0.9696\n",
      "Epoch 30/50\n",
      "88/88 [==============================] - 2s 22ms/step - loss: 0.0870 - accuracy: 0.9705 - val_loss: 0.0812 - val_accuracy: 0.9696\n",
      "Epoch 31/50\n",
      "88/88 [==============================] - 2s 21ms/step - loss: 0.0867 - accuracy: 0.9709 - val_loss: 0.0810 - val_accuracy: 0.9696\n",
      "Epoch 32/50\n",
      "88/88 [==============================] - 2s 21ms/step - loss: 0.0863 - accuracy: 0.9715 - val_loss: 0.0807 - val_accuracy: 0.9696\n",
      "Epoch 33/50\n",
      "88/88 [==============================] - 2s 23ms/step - loss: 0.0860 - accuracy: 0.9714 - val_loss: 0.0804 - val_accuracy: 0.9696\n",
      "Epoch 34/50\n",
      "88/88 [==============================] - 2s 23ms/step - loss: 0.0857 - accuracy: 0.9714 - val_loss: 0.0801 - val_accuracy: 0.9696\n",
      "Epoch 35/50\n",
      "88/88 [==============================] - 2s 22ms/step - loss: 0.0854 - accuracy: 0.9714 - val_loss: 0.0799 - val_accuracy: 0.9700\n",
      "Epoch 36/50\n",
      "88/88 [==============================] - 2s 23ms/step - loss: 0.0850 - accuracy: 0.9715 - val_loss: 0.0796 - val_accuracy: 0.9700\n",
      "Epoch 37/50\n",
      "88/88 [==============================] - 2s 23ms/step - loss: 0.0847 - accuracy: 0.9717 - val_loss: 0.0793 - val_accuracy: 0.9700\n",
      "Epoch 38/50\n",
      "88/88 [==============================] - 2s 21ms/step - loss: 0.0844 - accuracy: 0.9719 - val_loss: 0.0791 - val_accuracy: 0.9700\n",
      "Epoch 39/50\n",
      "88/88 [==============================] - 2s 23ms/step - loss: 0.0841 - accuracy: 0.9721 - val_loss: 0.0788 - val_accuracy: 0.9711\n",
      "Epoch 40/50\n",
      "88/88 [==============================] - 2s 21ms/step - loss: 0.0837 - accuracy: 0.9722 - val_loss: 0.0785 - val_accuracy: 0.9711\n",
      "Epoch 41/50\n",
      "88/88 [==============================] - 2s 20ms/step - loss: 0.0834 - accuracy: 0.9723 - val_loss: 0.0783 - val_accuracy: 0.9711\n",
      "Epoch 42/50\n",
      "88/88 [==============================] - 2s 20ms/step - loss: 0.0831 - accuracy: 0.9725 - val_loss: 0.0780 - val_accuracy: 0.9711\n",
      "Epoch 43/50\n",
      "88/88 [==============================] - 2s 21ms/step - loss: 0.0828 - accuracy: 0.9726 - val_loss: 0.0778 - val_accuracy: 0.9714\n",
      "Epoch 44/50\n",
      "88/88 [==============================] - 2s 21ms/step - loss: 0.0824 - accuracy: 0.9727 - val_loss: 0.0775 - val_accuracy: 0.9714\n",
      "Epoch 45/50\n",
      "88/88 [==============================] - 2s 23ms/step - loss: 0.0821 - accuracy: 0.9729 - val_loss: 0.0773 - val_accuracy: 0.9714\n",
      "Epoch 46/50\n",
      "88/88 [==============================] - 2s 21ms/step - loss: 0.0818 - accuracy: 0.9731 - val_loss: 0.0770 - val_accuracy: 0.9714\n",
      "Epoch 47/50\n",
      "88/88 [==============================] - 2s 25ms/step - loss: 0.0815 - accuracy: 0.9733 - val_loss: 0.0768 - val_accuracy: 0.9714\n",
      "Epoch 48/50\n",
      "88/88 [==============================] - 2s 24ms/step - loss: 0.0812 - accuracy: 0.9735 - val_loss: 0.0765 - val_accuracy: 0.9714\n",
      "Epoch 49/50\n",
      "88/88 [==============================] - 2s 26ms/step - loss: 0.0808 - accuracy: 0.9737 - val_loss: 0.0762 - val_accuracy: 0.9718\n",
      "Epoch 50/50\n",
      "88/88 [==============================] - 2s 23ms/step - loss: 0.0805 - accuracy: 0.9740 - val_loss: 0.0760 - val_accuracy: 0.9718\n"
     ]
    }
   ],
   "source": [
    "\n",
    "history = m2_instance.fit(\n",
    "    train_dataset,\n",
    "    epochs = epochs,\n",
    "    validation_data = test_dataset\n",
    "    )\n"
   ]
  },
  {
   "cell_type": "code",
   "execution_count": 43,
   "metadata": {},
   "outputs": [
    {
     "name": "stdout",
     "output_type": "stream",
     "text": [
      "22/22 [==============================] - 0s 20ms/step\n",
      "Dataset length: 22\n",
      "Pred Length:  2800\n"
     ]
    }
   ],
   "source": [
    "\n",
    "prediction = m2_instance.predict(test_dataset)\n",
    "dataset_length = 0\n",
    "for _ in test_dataset:\n",
    "    dataset_length += 1\n",
    "print(\"Dataset length:\", dataset_length)\n",
    "print(\"Pred Length: \", len(prediction)) #????\n"
   ]
  },
  {
   "cell_type": "code",
   "execution_count": 39,
   "metadata": {},
   "outputs": [
    {
     "name": "stdout",
     "output_type": "stream",
     "text": [
      "0.9660714285714286\n"
     ]
    },
    {
     "data": {
      "text/plain": [
       "2800"
      ]
     },
     "execution_count": 39,
     "metadata": {},
     "output_type": "execute_result"
    }
   ],
   "source": [
    "predicted_labels = (prediction > 0.5).astype(int)\n",
    "count = 0\n",
    "pred_lab = []\n",
    "for x,y in zip(predicted_labels,Y_test):\n",
    "    pred_lab.append(x)\n",
    "    if x == y:\n",
    "        count +=1\n",
    "print(count/len(Y_test))\n",
    "\n",
    "len(pred_lab)"
   ]
  },
  {
   "cell_type": "code",
   "execution_count": 13,
   "metadata": {},
   "outputs": [
    {
     "data": {
      "text/plain": [
       "114400"
      ]
     },
     "execution_count": 13,
     "metadata": {},
     "output_type": "execute_result"
    }
   ],
   "source": [
    "len(prediction)"
   ]
  },
  {
   "cell_type": "code",
   "execution_count": 45,
   "metadata": {},
   "outputs": [
    {
     "data": {
      "text/plain": [
       "Text(70.72222222222221, 0.5, 'True classes')"
      ]
     },
     "execution_count": 45,
     "metadata": {},
     "output_type": "execute_result"
    },
    {
     "data": {
      "image/png": "[encoded data removed]",
      "text/plain": [
       "<Figure size 800x600 with 2 Axes>"
      ]
     },
     "metadata": {},
     "output_type": "display_data"
    }
   ],
   "source": [
    "con_mat = confusion_matrix(Y_test, pred_lab)\n",
    "\n",
    "plt.figure(figsize = (8,6))\n",
    "sns.heatmap(con_mat, linewidths = 0.1, cmap = 'Greens', linecolor = 'gray', \n",
    "            fmt = '.1f', annot = True)\n",
    "plt.xlabel('Predicted classes', fontsize = 20)\n",
    "plt.ylabel('True classes', fontsize = 20)"
   ]
  }
 ],
 "metadata": {
  "kernelspec": {
   "display_name": "Python 3",
   "language": "python",
   "name": "python3"
  },
  "language_info": {
   "codemirror_mode": {
    "name": "ipython",
    "version": 3
   },
   "file_extension": ".py",
   "mimetype": "text/x-python",
   "name": "python",
   "nbconvert_exporter": "python",
   "pygments_lexer": "ipython3",
   "version": "3.10.2"
  }
 },
 "nbformat": 4,
 "nbformat_minor": 2
}
