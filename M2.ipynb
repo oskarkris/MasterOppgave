{
 "cells": [
  {
   "cell_type": "code",
   "execution_count": 1,
   "metadata": {},
   "outputs": [],
   "source": [
    "from tensorflow import keras\n",
    "import keras.layers as layers\n",
    "from keras.utils import to_categorical\n",
    "from keras.models import Sequential,Model, load_model\n",
    "from keras.layers import Dense, Dropout, Flatten, Input,LeakyReLU,Conv2D, MaxPooling2D\n",
    "from keras.datasets import mnist\n",
    "from keras.optimizers import SGD\n",
    "from keras.metrics import categorical_crossentropy, binary_crossentropy\n",
    "import tensorflow as tf\n",
    "import visualkeras\n",
    "import matplotlib.pyplot as plt\n",
    "import random\n",
    "import numpy as np\n",
    "import pandas as pd\n",
    "import seaborn as sns\n",
    "from sklearn.metrics import confusion_matrix\n",
    "from sklearn.model_selection import train_test_split\n",
    "from itertools import chain\n",
    "import ast"
   ]
  },
  {
   "cell_type": "code",
   "execution_count": 2,
   "metadata": {},
   "outputs": [],
   "source": [
    "def m2():\n",
    "  model = Sequential()\n",
    "     # Flatten layer \n",
    "  #model.add(Flatten())\n",
    "  \n",
    "  # The first fully connected layer \n",
    "  model.add(Dense(120, activation = 'relu', input_shape=(40,)))\n",
    "\n",
    "  model.add(Dense(60, activation = 'relu'))\n",
    "  \n",
    "  # The output layer  \n",
    "  model.add(Dense(1, activation = 'sigmoid'))\n",
    "\n",
    "  opt = SGD(learning_rate=0.02)\n",
    "  model.compile(loss = binary_crossentropy,\n",
    "                optimizer = opt, \n",
    "                metrics = ['accuracy']) \n",
    "  \n",
    "  return model\n",
    "\n",
    "m2_instance = m2()"
   ]
  },
  {
   "cell_type": "code",
   "execution_count": 25,
   "metadata": {},
   "outputs": [
    {
     "name": "stdout",
     "output_type": "stream",
     "text": [
      "<class 'pandas.core.frame.DataFrame'>\n",
      "RangeIndex: 1526 entries, 0 to 1525\n",
      "Data columns (total 4 columns):\n",
      " #   Column                    Non-Null Count  Dtype \n",
      "---  ------                    --------------  ----- \n",
      " 0   img last conv layer       1526 non-null   object\n",
      " 1   argument before fc layer  1526 non-null   object\n",
      " 2   m1 pred                   1526 non-null   int64 \n",
      " 3   label                     1526 non-null   int64 \n",
      "dtypes: int64(2), object(2)\n",
      "memory usage: 47.8+ KB\n"
     ]
    }
   ],
   "source": [
    "training_data_m2 = pd.read_csv('training_data_m2.csv')\n",
    "#training_data_m2.to_csv('training_data_m2.csv', index=False)\n",
    "training_data_m2.info()"
   ]
  },
  {
   "cell_type": "code",
   "execution_count": 7,
   "metadata": {},
   "outputs": [],
   "source": [
    "argument_float = []\n",
    "for string_data in training_data_m2['argument before fc layer']:\n",
    "    string_data = string_data.replace(\"[\", \"\").replace(\"]\", \"\").replace(\"\\r\\n\", \"\").strip()\n",
    "    values = string_data.split()\n",
    "    float_values = [float(value) for value in values]\n",
    "    argument_float.append(float_values)\n",
    "\n",
    "training_data_m2['argument'] = argument_float\n",
    "training_data_m2 = training_data_m2.drop(['argument before fc layer', 'img last conv layer', 'm1 pred'], axis = 1)\n",
    "    \n"
   ]
  },
  {
   "cell_type": "code",
   "execution_count": 8,
   "metadata": {},
   "outputs": [],
   "source": [
    "X_train, X_test, Y_train, Y_test = train_test_split(training_data_m2['argument'], \n",
    "                                                    training_data_m2['label'],\n",
    "                                                    train_size=0.8\n",
    "                                                    )\n"
   ]
  },
  {
   "cell_type": "code",
   "execution_count": 9,
   "metadata": {},
   "outputs": [],
   "source": [
    "batch_size = 32\n",
    "\n",
    "def data_generator(data, labels):\n",
    "    for inn, label in zip(data, labels):\n",
    "        yield np.array(inn), [label]\n",
    "\n",
    "train_dataset = tf.data.Dataset.from_generator(\n",
    "    lambda: data_generator(X_train, Y_train),\n",
    "    output_signature=(\n",
    "        tf.TensorSpec(shape=(40,), dtype=tf.float32),\n",
    "        tf.TensorSpec(shape=(1,), dtype=tf.float32)\n",
    "    )\n",
    ").batch(batch_size)\n",
    "\n",
    "test_dataset = tf.data.Dataset.from_generator(\n",
    "    lambda: data_generator(X_test, Y_test),\n",
    "    output_signature=(\n",
    "        tf.TensorSpec(shape=(40,), dtype=tf.float32),\n",
    "        tf.TensorSpec(shape=(1,), dtype=tf.float32)\n",
    "    )\n",
    ").batch(batch_size)"
   ]
  },
  {
   "cell_type": "code",
   "execution_count": 63,
   "metadata": {},
   "outputs": [
    {
     "name": "stdout",
     "output_type": "stream",
     "text": [
      "Sample data shape: (32, 40)\n",
      "Sample label shape: (32, 1)\n"
     ]
    }
   ],
   "source": [
    "sample_data, sample_label = next(iter(train_dataset))\n",
    "\n",
    "# Check the shape of the sample data and label\n",
    "print(\"Sample data shape:\", sample_data.shape)\n",
    "print(\"Sample label shape:\", sample_label.shape)\n",
    "\n"
   ]
  },
  {
   "cell_type": "code",
   "execution_count": 11,
   "metadata": {},
   "outputs": [
    {
     "name": "stdout",
     "output_type": "stream",
     "text": [
      "Epoch 1/50\n"
     ]
    },
    {
     "name": "stdout",
     "output_type": "stream",
     "text": [
      "39/39 [==============================] - 2s 45ms/step - loss: 0.2622 - accuracy: 0.8836 - val_loss: 0.2204 - val_accuracy: 0.8856\n",
      "Epoch 2/50\n",
      "39/39 [==============================] - 0s 6ms/step - loss: 0.1469 - accuracy: 0.9418 - val_loss: 0.1694 - val_accuracy: 0.9477\n",
      "Epoch 3/50\n",
      "39/39 [==============================] - 0s 6ms/step - loss: 0.1175 - accuracy: 0.9648 - val_loss: 0.1512 - val_accuracy: 0.9542\n",
      "Epoch 4/50\n",
      "39/39 [==============================] - 0s 6ms/step - loss: 0.1054 - accuracy: 0.9639 - val_loss: 0.1442 - val_accuracy: 0.9608\n",
      "Epoch 5/50\n",
      "39/39 [==============================] - 0s 6ms/step - loss: 0.0996 - accuracy: 0.9648 - val_loss: 0.1414 - val_accuracy: 0.9575\n",
      "Epoch 6/50\n",
      "39/39 [==============================] - 0s 6ms/step - loss: 0.0965 - accuracy: 0.9656 - val_loss: 0.1402 - val_accuracy: 0.9575\n",
      "Epoch 7/50\n",
      "39/39 [==============================] - 0s 6ms/step - loss: 0.0946 - accuracy: 0.9656 - val_loss: 0.1397 - val_accuracy: 0.9575\n",
      "Epoch 8/50\n",
      "39/39 [==============================] - 0s 6ms/step - loss: 0.0933 - accuracy: 0.9656 - val_loss: 0.1397 - val_accuracy: 0.9575\n",
      "Epoch 9/50\n",
      "39/39 [==============================] - 0s 6ms/step - loss: 0.0925 - accuracy: 0.9664 - val_loss: 0.1398 - val_accuracy: 0.9575\n",
      "Epoch 10/50\n",
      "39/39 [==============================] - 0s 6ms/step - loss: 0.0919 - accuracy: 0.9656 - val_loss: 0.1399 - val_accuracy: 0.9575\n",
      "Epoch 11/50\n",
      "39/39 [==============================] - 0s 6ms/step - loss: 0.0913 - accuracy: 0.9656 - val_loss: 0.1401 - val_accuracy: 0.9575\n",
      "Epoch 12/50\n",
      "39/39 [==============================] - 0s 6ms/step - loss: 0.0909 - accuracy: 0.9656 - val_loss: 0.1403 - val_accuracy: 0.9575\n",
      "Epoch 13/50\n",
      "39/39 [==============================] - 0s 6ms/step - loss: 0.0906 - accuracy: 0.9656 - val_loss: 0.1404 - val_accuracy: 0.9608\n",
      "Epoch 14/50\n",
      "39/39 [==============================] - 0s 7ms/step - loss: 0.0902 - accuracy: 0.9664 - val_loss: 0.1405 - val_accuracy: 0.9608\n",
      "Epoch 15/50\n",
      "39/39 [==============================] - 0s 6ms/step - loss: 0.0899 - accuracy: 0.9664 - val_loss: 0.1406 - val_accuracy: 0.9608\n",
      "Epoch 16/50\n",
      "39/39 [==============================] - 0s 7ms/step - loss: 0.0896 - accuracy: 0.9672 - val_loss: 0.1407 - val_accuracy: 0.9608\n",
      "Epoch 17/50\n",
      "39/39 [==============================] - 0s 6ms/step - loss: 0.0893 - accuracy: 0.9672 - val_loss: 0.1407 - val_accuracy: 0.9608\n",
      "Epoch 18/50\n",
      "39/39 [==============================] - 0s 7ms/step - loss: 0.0891 - accuracy: 0.9664 - val_loss: 0.1407 - val_accuracy: 0.9641\n",
      "Epoch 19/50\n",
      "39/39 [==============================] - 0s 6ms/step - loss: 0.0888 - accuracy: 0.9664 - val_loss: 0.1406 - val_accuracy: 0.9641\n",
      "Epoch 20/50\n",
      "39/39 [==============================] - 0s 6ms/step - loss: 0.0886 - accuracy: 0.9664 - val_loss: 0.1406 - val_accuracy: 0.9641\n",
      "Epoch 21/50\n",
      "39/39 [==============================] - 0s 7ms/step - loss: 0.0883 - accuracy: 0.9664 - val_loss: 0.1405 - val_accuracy: 0.9641\n",
      "Epoch 22/50\n",
      "39/39 [==============================] - 0s 6ms/step - loss: 0.0881 - accuracy: 0.9664 - val_loss: 0.1405 - val_accuracy: 0.9641\n",
      "Epoch 23/50\n",
      "39/39 [==============================] - 0s 6ms/step - loss: 0.0879 - accuracy: 0.9664 - val_loss: 0.1405 - val_accuracy: 0.9641\n",
      "Epoch 24/50\n",
      "39/39 [==============================] - 0s 6ms/step - loss: 0.0876 - accuracy: 0.9672 - val_loss: 0.1404 - val_accuracy: 0.9641\n",
      "Epoch 25/50\n",
      "39/39 [==============================] - 0s 6ms/step - loss: 0.0874 - accuracy: 0.9672 - val_loss: 0.1405 - val_accuracy: 0.9641\n",
      "Epoch 26/50\n",
      "39/39 [==============================] - 0s 6ms/step - loss: 0.0872 - accuracy: 0.9672 - val_loss: 0.1405 - val_accuracy: 0.9641\n",
      "Epoch 27/50\n",
      "39/39 [==============================] - 0s 7ms/step - loss: 0.0870 - accuracy: 0.9672 - val_loss: 0.1404 - val_accuracy: 0.9641\n",
      "Epoch 28/50\n",
      "39/39 [==============================] - 0s 6ms/step - loss: 0.0868 - accuracy: 0.9680 - val_loss: 0.1404 - val_accuracy: 0.9641\n",
      "Epoch 29/50\n",
      "39/39 [==============================] - 0s 6ms/step - loss: 0.0867 - accuracy: 0.9680 - val_loss: 0.1404 - val_accuracy: 0.9641\n",
      "Epoch 30/50\n",
      "39/39 [==============================] - 0s 6ms/step - loss: 0.0865 - accuracy: 0.9680 - val_loss: 0.1403 - val_accuracy: 0.9641\n",
      "Epoch 31/50\n",
      "39/39 [==============================] - 0s 6ms/step - loss: 0.0863 - accuracy: 0.9680 - val_loss: 0.1403 - val_accuracy: 0.9641\n",
      "Epoch 32/50\n",
      "39/39 [==============================] - 0s 6ms/step - loss: 0.0861 - accuracy: 0.9680 - val_loss: 0.1403 - val_accuracy: 0.9641\n",
      "Epoch 33/50\n",
      "39/39 [==============================] - 0s 6ms/step - loss: 0.0859 - accuracy: 0.9680 - val_loss: 0.1402 - val_accuracy: 0.9641\n",
      "Epoch 34/50\n",
      "39/39 [==============================] - 0s 6ms/step - loss: 0.0857 - accuracy: 0.9680 - val_loss: 0.1402 - val_accuracy: 0.9641\n",
      "Epoch 35/50\n",
      "39/39 [==============================] - 0s 6ms/step - loss: 0.0855 - accuracy: 0.9680 - val_loss: 0.1401 - val_accuracy: 0.9673\n",
      "Epoch 36/50\n",
      "39/39 [==============================] - 0s 6ms/step - loss: 0.0854 - accuracy: 0.9672 - val_loss: 0.1401 - val_accuracy: 0.9673\n",
      "Epoch 37/50\n",
      "39/39 [==============================] - 0s 7ms/step - loss: 0.0852 - accuracy: 0.9672 - val_loss: 0.1401 - val_accuracy: 0.9673\n",
      "Epoch 38/50\n",
      "39/39 [==============================] - 0s 6ms/step - loss: 0.0850 - accuracy: 0.9680 - val_loss: 0.1401 - val_accuracy: 0.9673\n",
      "Epoch 39/50\n",
      "39/39 [==============================] - 0s 7ms/step - loss: 0.0849 - accuracy: 0.9680 - val_loss: 0.1401 - val_accuracy: 0.9673\n",
      "Epoch 40/50\n",
      "39/39 [==============================] - 0s 6ms/step - loss: 0.0847 - accuracy: 0.9689 - val_loss: 0.1400 - val_accuracy: 0.9673\n",
      "Epoch 41/50\n",
      "39/39 [==============================] - 0s 8ms/step - loss: 0.0845 - accuracy: 0.9689 - val_loss: 0.1400 - val_accuracy: 0.9673\n",
      "Epoch 42/50\n",
      "39/39 [==============================] - 0s 8ms/step - loss: 0.0844 - accuracy: 0.9689 - val_loss: 0.1400 - val_accuracy: 0.9673\n",
      "Epoch 43/50\n",
      "39/39 [==============================] - 0s 7ms/step - loss: 0.0842 - accuracy: 0.9705 - val_loss: 0.1400 - val_accuracy: 0.9673\n",
      "Epoch 44/50\n",
      "39/39 [==============================] - 0s 6ms/step - loss: 0.0840 - accuracy: 0.9705 - val_loss: 0.1400 - val_accuracy: 0.9673\n",
      "Epoch 45/50\n",
      "39/39 [==============================] - 0s 7ms/step - loss: 0.0839 - accuracy: 0.9705 - val_loss: 0.1400 - val_accuracy: 0.9673\n",
      "Epoch 46/50\n",
      "39/39 [==============================] - 0s 6ms/step - loss: 0.0837 - accuracy: 0.9705 - val_loss: 0.1400 - val_accuracy: 0.9673\n",
      "Epoch 47/50\n",
      "39/39 [==============================] - 0s 7ms/step - loss: 0.0836 - accuracy: 0.9705 - val_loss: 0.1400 - val_accuracy: 0.9673\n",
      "Epoch 48/50\n",
      "39/39 [==============================] - 0s 8ms/step - loss: 0.0834 - accuracy: 0.9705 - val_loss: 0.1399 - val_accuracy: 0.9673\n",
      "Epoch 49/50\n",
      "39/39 [==============================] - 0s 7ms/step - loss: 0.0833 - accuracy: 0.9705 - val_loss: 0.1399 - val_accuracy: 0.9673\n",
      "Epoch 50/50\n",
      "39/39 [==============================] - 0s 7ms/step - loss: 0.0831 - accuracy: 0.9705 - val_loss: 0.1399 - val_accuracy: 0.9673\n"
     ]
    }
   ],
   "source": [
    "\n",
    "history = m2_instance.fit(\n",
    "    train_dataset,\n",
    "    epochs = 50,\n",
    "    validation_data = test_dataset\n",
    "    )\n"
   ]
  },
  {
   "cell_type": "code",
   "execution_count": 60,
   "metadata": {},
   "outputs": [
    {
     "name": "stdout",
     "output_type": "stream",
     "text": [
      "10/10 [==============================] - 0s 11ms/step\n"
     ]
    }
   ],
   "source": [
    "\n",
    "prediction = m2_instance.predict(test_dataset)\n",
    "binary_predictions = (prediction > 0.5).astype(int)\n"
   ]
  },
  {
   "cell_type": "code",
   "execution_count": 61,
   "metadata": {},
   "outputs": [
    {
     "data": {
      "text/plain": [
       "Text(70.72222222222221, 0.5, 'True classes')"
      ]
     },
     "execution_count": 61,
     "metadata": {},
     "output_type": "execute_result"
    },
    {
     "data": {
      "image/png": "[encoded data removed]",
      "text/plain": [
       "<Figure size 800x600 with 2 Axes>"
      ]
     },
     "metadata": {},
     "output_type": "display_data"
    }
   ],
   "source": [
    "con_mat = confusion_matrix(Y_test, binary_predictions)\n",
    "\n",
    "plt.figure(figsize = (8,6))\n",
    "sns.heatmap(con_mat, linewidths = 0.1, cmap = 'Greens', linecolor = 'gray', \n",
    "            fmt = '.1f', annot = True)\n",
    "plt.xlabel('Predicted classes', fontsize = 20)\n",
    "plt.ylabel('True classes', fontsize = 20)"
   ]
  }
 ],
 "metadata": {
  "kernelspec": {
   "display_name": "Python 3",
   "language": "python",
   "name": "python3"
  },
  "language_info": {
   "codemirror_mode": {
    "name": "ipython",
    "version": 3
   },
   "file_extension": ".py",
   "mimetype": "text/x-python",
   "name": "python",
   "nbconvert_exporter": "python",
   "pygments_lexer": "ipython3",
   "version": "3.10.2"
  }
 },
 "nbformat": 4,
 "nbformat_minor": 2
}
